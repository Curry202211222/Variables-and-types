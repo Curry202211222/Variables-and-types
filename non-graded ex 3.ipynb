{
 "cells": [
  {
   "cell_type": "markdown",
   "metadata": {},
   "source": [
    "Create a treasure hunt game where a user has to figure out the location of the treasure on a grid by using just the commands of E, W, N, and S, indicating East, West, North, and South, respectively. \n",
    "\n",
    "REQUIREMENTS:\n",
    "1. Define the size of the grid. It could be any number, but start from 5\n",
    "2. Assign the player a random position on the map. Do the same for the location of the treasure. (HINT: use randint() to generate a random set of coordinates)\n",
    "    2.1. Since it's 2-dimensional grid, the location of both the player and the treasure will be coordinates, like (x,y)\n",
    "3. Decide the maximum moves the player can make and keep track of the number of moves.\n",
    "4. Calculate the initial distance between the player and the treasure location\n",
    "5. Allow player to make as many moves as maximum moves allowed\n",
    "    5.1. Depending on which direction the player moves (N, S, E, or W), recalculate player's position and their distance from the treasure location\n",
    "    5.2. If the move brings player closer to the treasure, let the user know that they are getting closer\n",
    "    5.3. If the move takes player away from the treasure, let the user know that they are moving farther\n",
    "    5.4. If the player makes an illegal move, then let the user know that that move is not allowed. \n",
    "    5.5. If the new player position is the same as the treasure position, let the user know that they have found the treasure\n",
    "    5.6. If the moves made by the player are the same as maximum moves allowed, let the user know that no more moves are possible and that they have lost the game. Also show them where the treasure was located.\n",
    "    5.7. If there are still moves left, then the game should continue and keep asking the user for their moves. \n"
   ]
  },
  {
   "cell_type": "code",
   "execution_count": null,
   "metadata": {},
   "outputs": [],
   "source": [
    "import random\n",
    "\n",
    "\n",
    "GRID_SIZE = 5\n",
    "\n",
    "player_x = random.randint(0, GRID_SIZE - 1)\n",
    "player_y = random.randint(0, GRID_SIZE - 1)\n",
    "\n",
    "treasure_x = random.randint(0, GRID_SIZE - 1)\n",
    "treasure_y = random.randint(0, GRID_SIZE - 1)\n",
    "\n",
    "MAX_MOVES = 10\n",
    "\n",
    "initial_distance = abs(player_x - treasure_x) + abs(player_y - treasure_y)\n",
    "\n",
    "moves_made = 0\n",
    "while moves_made < MAX_MOVES:\n",
    "    print(f\"Your current position is: ({player_x}, {player_y})\")\n",
    "    print(f\"The treasure is {initial_distance} steps away.\")\n",
    "    player_move = input(\"Enter your move (E, W, N, or S): \").upper()\n",
    "\n",
    "    if player_move == \"E\":\n",
    "        player_x += 1\n",
    "    elif player_move == \"W\":\n",
    "        player_x -= 1\n",
    "    elif player_move == \"N\":\n",
    "        player_y += 1\n",
    "    elif player_move == \"S\":\n",
    "        player_y -= 1\n",
    "    else:\n",
    "        print(\"Invalid move!\")\n",
    "        continue\n",
    "\n",
    "    # Calculate the new distance between the player and the treasure\n",
    "    new_distance = abs(player_x - treasure_x) + abs(player_y - treasure_y)\n",
    "\n",
    "    # Check if the move brought the player closer or farther from the treasure\n",
    "    if new_distance < initial_distance:\n",
    "        print(\"You are getting closer!\")\n",
    "    elif new_distance > initial_distance:\n",
    "        print(\"You are moving farther away.\")\n",
    "    else:\n",
    "        print(\"You are at the same distance.\")\n",
    "\n",
    "    # Check if the player has found the treasure\n",
    "    if player_x == treasure_x and player_y == treasure_y:\n",
    "        print(f\"Congratulations! You have found the treasure at ({treasure_x}, {treasure_y}).\")\n",
    "        break\n",
    "\n",
    "    initial_distance = new_distance\n",
    "    moves_made += 1\n",
    "\n",
    "if moves_made == MAX_MOVES:\n",
    "    print(f\"Sorry, you have used up all your moves. The treasure was located at ({treasure_x}, {treasure_y}).\")"
   ]
  }
 ],
 "metadata": {
  "kernelspec": {
   "display_name": "Python 3",
   "language": "python",
   "name": "python3"
  },
  "language_info": {
   "codemirror_mode": {
    "name": "ipython",
    "version": 3
   },
   "file_extension": ".py",
   "mimetype": "text/x-python",
   "name": "python",
   "nbconvert_exporter": "python",
   "pygments_lexer": "ipython3",
   "version": "3.11.5"
  }
 },
 "nbformat": 4,
 "nbformat_minor": 2
}

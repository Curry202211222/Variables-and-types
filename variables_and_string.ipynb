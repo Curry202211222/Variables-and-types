{
 "cells": [
  {
   "cell_type": "markdown",
   "metadata": {},
   "source": [
    "\n",
    "REUIREMENTS:\n",
    "1. Use all the variables given in the code cell to produce the multiline string given under 'OUTPUT'. \n",
    "2. You can use 'if' or 'if-else'\n",
    "3. Use methods like split(), istitle(), title(), replace(), len(), lower(), etc. to produce the multiline string.\n",
    "4. Do not use replace() function more than once\n",
    "5. Use string methods to get the 'C' from the name variable\n",
    "6. Use len() function to calculate the total characters in the final text to produce the '508' number\n",
    "7. Do not use any methods or tricks that we have not yet covered in the lecture yet\n",
    "8. After your code successfully prints the 'output_text', compare it with the test_text. If everything goes well, the two text strings will match. \n",
    "\n",
    "\n",
    "\n",
    "OUTPUT:\n",
    "\n",
    "A Brief Profile of C. Dickens in 508 characters.\n",
    "\n",
    "Hello. My name is Charles Dickens.\n",
    "I am an English novelist. I was born on February 7, 1812, in Portsmouth, England.\n",
    "I am most famous as a writer of the Victorian era.\n",
    "I married Catherine Hogarth in 1836. We have ten children.\n",
    "Some of my most famous works include \"A Christmas Carol,\" \"Oliver Twist,\" \"David Copperfield,\" and \"Great Expectations.\"\n",
    "Besides being a writer, my other talent was doing dramatic public readings of my work.\n",
    "I died on June 9, 1870, at my home in Gad's Hill Place, Kent, England."
   ]
  },
  {
   "cell_type": "code",
   "execution_count": 2,
   "metadata": {},
   "outputs": [
    {
     "name": "stdout",
     "output_type": "stream",
     "text": [
      "A Brief Profile of C Dickens in 508 characters.\n",
      "\n",
      "Hello. My name is Charles Dickens.\n",
      "I am an English novelist. I was born on February 7, 1812, in Portsmouth, England.\n",
      "I am most famous as a writer of the Victorian era.\n",
      "I married Catherine Hogarth in 1836. We have 10 children.\n",
      "Some of my most famous works include \"A Christmas Carol, Oliver Twist, David Copperfield, Great Expectations.\"\n",
      "Besides being a writer, my other talent was doing dramatic public readings of my work.\n",
      "I died on June 9, 1870, at my home in Gad's Hill Place, Kent, England.\n",
      "OOPS!!! Sorry, your output text does not match the test text.\n"
     ]
    }
   ],
   "source": [
    "name = \"Charles Dickens\"\n",
    "birth_date = \"February 7, 1812\"\n",
    "birth_place = \"Portsmouth, England\"\n",
    "occupation = \"English novelist\"\n",
    "marriage_date = \"1836\"\n",
    "spouse = \"Catherine Hogarth\"\n",
    "children = \"10\"\n",
    "famous_works = [\"A Christmas Carol\", \"Oliver Twist\", \"David Copperfield\", \"Great Expectations\"]\n",
    "death_date = \"June 9, 1870\"\n",
    "death_place = \"Gad's Hill Place, Kent, England\"\n",
    "\n",
    "output_text = f\"\"\"A Brief Profile of {name[0]} Dickens in 508 characters.\n",
    "\n",
    "Hello. My name is {name}.\n",
    "I am an {occupation}. I was born on {birth_date}, in {birth_place}.\n",
    "I am most famous as a writer of the Victorian era.\n",
    "I married {spouse} in {marriage_date}. We have {children} children.\n",
    "Some of my most famous works include \"{', '.join(famous_works)}.\"\n",
    "Besides being a writer, my other talent was doing dramatic public readings of my work.\n",
    "I died on {death_date}, at my home in {death_place}.\"\"\"\n",
    "\n",
    "print(output_text)\n",
    "\n",
    "test_text = f'''A Brief Profile of C. Dickens in 505 characters.\n",
    "\n",
    "Hello. My name is Charles Dickens.\n",
    "I am an English novelist. I was born on February 7, 1812, in Portsmouth, England.\n",
    "I am most famous as a writer of the Victorian era.\n",
    "I married Catherine Hogarth in 1836. We have ten children.\n",
    "Some of my most famous works include \"A Christmas Carol\", \"Oliver Twist\", \"David Copperfield\", and \"Great Expectations\".\n",
    "Besides being a writer, my other talent was doing dramatic public readings of my work.\n",
    "I died on June 9, 1870, at my home in Gad's Hill Place, Kent, England.'''\n",
    "\n",
    "if output_text == test_text:\n",
    "    print(\"SUCCESS! Yes, your output text matches the test text.\")\n",
    "else:\n",
    "    print(\"OOPS!!! Sorry, your output text does not match the test text.\")\n"
   ]
  }
 ],
 "metadata": {
  "kernelspec": {
   "display_name": "Python 3",
   "language": "python",
   "name": "python3"
  },
  "language_info": {
   "codemirror_mode": {
    "name": "ipython",
    "version": 3
   },
   "file_extension": ".py",
   "mimetype": "text/x-python",
   "name": "python",
   "nbconvert_exporter": "python",
   "pygments_lexer": "ipython3",
   "version": "3.11.9"
  }
 },
 "nbformat": 4,
 "nbformat_minor": 2
}
